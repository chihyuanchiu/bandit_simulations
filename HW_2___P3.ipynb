{
 "cells": [
  {
   "cell_type": "code",
   "execution_count": 1,
   "metadata": {},
   "outputs": [],
   "source": [
    "from collections import Counter\n",
    "\n",
    "import sys\n",
    "import random\n",
    "import numpy as np\n",
    "import matplotlib\n",
    "import matplotlib.mlab as mlab\n",
    "import matplotlib.pyplot as plt\n",
    "from sklearn import svm\n",
    "from scipy import io\n",
    "from scipy import stats\n",
    "import math\n",
    "\n",
    "import warnings\n",
    "warnings.filterwarnings(\"ignore\")"
   ]
  },
  {
   "cell_type": "code",
   "execution_count": 233,
   "metadata": {
    "scrolled": true
   },
   "outputs": [
    {
     "name": "stdout",
     "output_type": "stream",
     "text": [
      "loss_array, alpha*m 4.75 1.875\n",
      "regret_random:\n",
      " 2.875 \n",
      "\n",
      "probs_array, first half:\n",
      " [[0.5        0.5       ]\n",
      " [0.5        0.5       ]\n",
      " [0.5        0.5       ]\n",
      " [0.57742411 0.42257589]\n",
      " [0.63610415 0.36389585]\n",
      " [0.62476744 0.37523256]\n",
      " [0.61586036 0.38413964]\n",
      " [0.4925979  0.5074021 ]\n",
      " [0.38259793 0.61740207]\n",
      " [0.27121932 0.72878068]] \n",
      "\n",
      "loss_array [[0.   ]\n",
      " [0.375]\n",
      " [0.375]\n",
      " [0.   ]\n",
      " [0.   ]\n",
      " [1.   ]\n",
      " [1.   ]\n",
      " [1.   ]\n",
      " [0.   ]\n",
      " [1.   ]]\n"
     ]
    }
   ],
   "source": [
    "alpha = 3/8\n",
    "n = 10\n",
    "m = int(n/2)\n",
    "\n",
    "eta = np.zeros(n)\n",
    "for t in range(n):\n",
    "    eta[t] = np.sqrt(2*np.log(2)/(2*(t+1)))\n",
    "\n",
    "y = np.zeros((n, 2))\n",
    "for t in range(n):\n",
    "    if t <= int(n/2) - 1:\n",
    "        y[t, 1] = alpha\n",
    "    else:\n",
    "        y[t, 0] = 1\n",
    "\n",
    "y_hat = np.zeros((n, 2))\n",
    "probs_array = np.zeros((n, 2))\n",
    "loss_array = np.zeros((n, 1))\n",
    "A_array = np.zeros((n, 1))\n",
    "\n",
    "\n",
    "probs_array[0, 0] = 0.5\n",
    "probs_array[0, 1] = 1 - probs_array[0, 0]\n",
    "A_array[0] = np.random.choice([0, 1], 1, p = probs_array[0, :])\n",
    "if A_array[0] == 0:\n",
    "    y_hat[0, 0] = y[0, 0]/probs_array[0, 0]\n",
    "    loss_array[0] = y[0, 0]\n",
    "else:\n",
    "    y_hat[0, 1] = y[0, 1]/probs_array[0, 1]\n",
    "    loss_array[0] = y[0, 1]\n",
    "\n",
    "for t in range(n-1):\n",
    "    sum_0 = np.sum(y_hat[0:t, 0])\n",
    "    sum_1 = np.sum(y_hat[0:t, 1])\n",
    "    probs_array[t+1, 0] = np.exp(-eta[t+1]*sum_0)/(np.exp(-eta[t+1]*sum_0) + np.exp(-eta[t+1]*sum_1))\n",
    "    probs_array[t+1, 1] = 1 - probs_array[t+1, 0]\n",
    "    A_array[t+1] = np.random.choice([0, 1], 1, p = probs_array[t+1, :])\n",
    "    if A_array[t+1] == 0:\n",
    "        y_hat[t+1, 0] = y[t+1, 0]/probs_array[t+1, 0]\n",
    "        loss_array[t+1] = y[t+1, 0]\n",
    "    else:\n",
    "        y_hat[t+1, 1] = y[t+1, 1]/probs_array[t+1, 1]\n",
    "        loss_array[t+1] = y[t+1, 1]\n",
    "    \n",
    "regret_random = np.sum(loss_array) - alpha*m\n",
    "\n",
    "\n",
    "# y_hat[n-1,0]\n",
    "\n",
    "print('loss_array, alpha*m', np.sum(loss_array), alpha*m)\n",
    "print('regret_random:\\n', regret_random, '\\n')\n",
    "\n",
    "# print('y_hat, first half:\\n', y_hat[0:60, :], '\\n')\n",
    "print('probs_array, first half:\\n', probs_array[0:60, :], '\\n')\n",
    "print('loss_array', loss_array[0:60])\n",
    "\n",
    "if n > 120:\n",
    "    print('y_hat, second half:\\n', y_hat[150:150+60, :], '\\n')\n",
    "    print('probs_array, second half:\\n', probs_array[150:150+60, :], '\\n')\n",
    "\n",
    "\n",
    "\n",
    "\n",
    "\n",
    "        "
   ]
  },
  {
   "cell_type": "code",
   "execution_count": null,
   "metadata": {},
   "outputs": [],
   "source": []
  },
  {
   "cell_type": "code",
   "execution_count": 273,
   "metadata": {
    "scrolled": false
   },
   "outputs": [
    {
     "name": "stdout",
     "output_type": "stream",
     "text": [
      "np.arange: [100 200 300 400 500 600 700 800 900] \n",
      "\n",
      "emp_fraction [0.005 0.005 0.005 0.015 0.015 0.01  0.025 0.03  0.04 ]\n",
      "prob_lower_bound [0.01519827 0.01537277 0.01538335 0.01538443 0.01538458 0.01538461\n",
      " 0.01538461 0.01538462 0.01538462]\n"
     ]
    }
   ],
   "source": [
    "alpha = 3/8\n",
    "\n",
    "n_start = 100\n",
    "n_end = 1000\n",
    "n_interval = 100\n",
    "n_nums = int((n_end - n_start)/n_interval)\n",
    "trial_nums = 200\n",
    "\n",
    "print('np.arange:', np.arange(n_start, n_end, n_interval), '\\n')\n",
    "\n",
    "regret_random = np.zeros((n_nums, trial_nums))\n",
    "regret_avg = np.zeros(n_nums)\n",
    "\n",
    "# n_index = 0\n",
    "# n_nums = 1\n",
    "# for n in [10]:\n",
    "\n",
    "emp_fraction_exceed_lower_bound = np.zeros(n_nums)\n",
    "prob_lower_bound = np.zeros(n_nums)\n",
    "\n",
    "for n_index, n in enumerate(np.arange(n_start, n_end, n_interval)):\n",
    "    m = int(n/2)\n",
    "    eta = np.zeros(n)\n",
    "    for t in range(n):\n",
    "        eta[t] = np.sqrt(2*np.log(2)/(2*(t+1)))\n",
    "    \n",
    "    prob_lower_bound[n_index] = (1 - n*np.exp(-eta[-1]*n)/2)/65\n",
    "    \n",
    "        \n",
    "    for trial in range(trial_nums):\n",
    "        y = np.zeros((n, 2))\n",
    "        for t in range(n):\n",
    "            if t <= int(n/2) - 1:\n",
    "                y[t, 1] = alpha\n",
    "            else:\n",
    "                y[t, 0] = 1\n",
    "\n",
    "        y_hat = np.zeros((n, 2))\n",
    "        probs_array = np.zeros((n, 2))\n",
    "\n",
    "        loss_array = np.zeros((n, 1))\n",
    "        A_array = np.zeros((n, 1))\n",
    "\n",
    "        probs_array[0, 0] = 0.5\n",
    "        probs_array[0, 1] = 1 - probs_array[0, 0]\n",
    "        A_array[0] = np.random.choice([0, 1], 1, p = probs_array[0, :])\n",
    "        if A_array[0] == 0:\n",
    "            y_hat[0, 0] = y[0, 0]/probs_array[0, 0]\n",
    "            loss_array[0] = y[0, 0]\n",
    "        else:\n",
    "            y_hat[0, 1] = y[0, 1]/probs_array[0, 1]\n",
    "            loss_array[0] = y[0, 1]\n",
    "\n",
    "        for t in range(n-1):\n",
    "            sum_0 = np.sum(y_hat[0:t, 0])\n",
    "            sum_1 = np.sum(y_hat[0:t, 1])\n",
    "#             print('t', t, '\\n')\n",
    "#             print(probs_array.shape, eta.shape)\n",
    "            probs_array[t+1, 0] = np.exp(-eta[t+1]*sum_0)/(np.exp(-eta[t+1]*sum_0) + np.exp(-eta[t+1]*sum_1))\n",
    "    #         print(sum_0, sum_1, eta[t+1])\n",
    "    #         print(probs_array[t+1,0])\n",
    "    #         print('\\n')\n",
    "            probs_array[t+1, 1] = 1 - probs_array[t+1, 0]\n",
    "        \n",
    "#             print('\\nHello\\n')\n",
    "#             if n_index == 0 and trial == 0:\n",
    "#                 print(probs_array[t+1, :])\n",
    "#                 print('\\nHello\\n')\n",
    "                \n",
    "            A_array[t+1] = np.random.choice([0, 1], 1, p = probs_array[t+1, :])\n",
    "            if A_array[t+1] == 0:\n",
    "                y_hat[t+1, 0] = y[t+1, 0]/probs_array[t+1, 0]\n",
    "                loss_array[t+1] = y[t+1, 0]\n",
    "            else:\n",
    "                y_hat[t+1, 1] = y[t+1, 1]/probs_array[t+1, 1]\n",
    "                loss_array[t+1] = y[t+1, 1]\n",
    "        \n",
    "#         print(n_index, trial)\n",
    "#         print(np.sum(loss_array), alpha*m)\n",
    "        regret_random[n_index, trial] = np.sum(loss_array) - alpha*m\n",
    "    \n",
    "#         if n_index == 0 and trial == 0:\n",
    "# #             print('y_hat, first half:\\n', y_hat[0:60, :], '\\n')\n",
    "# #             print('probs_array, first half:\\n', probs_array[0:np.minimum(m, 60), :], '\\n')\n",
    "#             print('probs_array: ', probs_array, '\\n')\n",
    "#             print('loss_array: ', loss_array)\n",
    "\n",
    "#             print('y_hat, second half:\\n', y_hat[-np.minimum(m, 60):-1, :], '\\n')\n",
    "#             print('probs_array, second half:\\n', probs_array[-np.minimum(m, 60):-1, :], '\\n')\n",
    "\n",
    "    regret_avg[n_index] = np.average(regret_random[n_index, :])\n",
    "    \n",
    "    emp_fraction_exceed_lower_bound[n_index] = np.count_nonzero(regret_random[n_index, :] >= n/4)/trial_nums\n",
    "\n",
    "    \n",
    "# print('regret_average:\\n', regret_avg, '\\n')\n",
    "# print('regret_random:\\n', regret_random, '\\n')\n",
    "\n",
    "print('emp_fraction', emp_fraction_exceed_lower_bound)\n",
    "print('prob_lower_bound', prob_lower_bound)\n",
    "\n",
    "\n",
    "\n",
    "\n",
    "\n",
    "\n",
    "        "
   ]
  },
  {
   "cell_type": "code",
   "execution_count": 274,
   "metadata": {},
   "outputs": [
    {
     "data": {
      "text/plain": [
       "[<matplotlib.lines.Line2D at 0x7fc7497b9070>]"
      ]
     },
     "execution_count": 274,
     "metadata": {},
     "output_type": "execute_result"
    },
    {
     "data": {
      "image/png": "[encoded data removed]",
      "text/plain": [
       "<Figure size 432x288 with 1 Axes>"
      ]
     },
     "metadata": {
      "needs_background": "light"
     },
     "output_type": "display_data"
    }
   ],
   "source": [
    "plt.plot(emp_fraction_exceed_lower_bound)\n",
    "plt.plot(prob_lower_bound)\n",
    "\n",
    "\n",
    "#     plt.plot(regret_avg)"
   ]
  },
  {
   "cell_type": "code",
   "execution_count": null,
   "metadata": {},
   "outputs": [],
   "source": [
    "\n"
   ]
  },
  {
   "cell_type": "code",
   "execution_count": 110,
   "metadata": {},
   "outputs": [
    {
     "data": {
      "text/plain": [
       "array([170, 180])"
      ]
     },
     "execution_count": 110,
     "metadata": {},
     "output_type": "execute_result"
    }
   ],
   "source": [
    "a = np.arange(10, 200, 10)\n",
    "a[-3:-1]"
   ]
  },
  {
   "cell_type": "code",
   "execution_count": 94,
   "metadata": {},
   "outputs": [
    {
     "data": {
      "text/plain": [
       "20"
      ]
     },
     "execution_count": 94,
     "metadata": {},
     "output_type": "execute_result"
    }
   ],
   "source": [
    "np.minimum(30, 20)"
   ]
  },
  {
   "cell_type": "code",
   "execution_count": 235,
   "metadata": {},
   "outputs": [
    {
     "name": "stdout",
     "output_type": "stream",
     "text": [
      "0 10\n",
      "1 20\n"
     ]
    }
   ],
   "source": [
    "for i, j in enumerate([10, 20]):\n",
    "    print(i,j)"
   ]
  },
  {
   "cell_type": "code",
   "execution_count": 269,
   "metadata": {},
   "outputs": [
    {
     "name": "stdout",
     "output_type": "stream",
     "text": [
      "5\n"
     ]
    }
   ],
   "source": [
    "a = np.zeros(5)\n",
    "print(np.count_nonzero(a < 4))"
   ]
  },
  {
   "cell_type": "code",
   "execution_count": null,
   "metadata": {},
   "outputs": [],
   "source": []
  }
 ],
 "metadata": {
  "kernelspec": {
   "display_name": "Python 3",
   "language": "python",
   "name": "python3"
  },
  "language_info": {
   "codemirror_mode": {
    "name": "ipython",
    "version": 3
   },
   "file_extension": ".py",
   "mimetype": "text/x-python",
   "name": "python",
   "nbconvert_exporter": "python",
   "pygments_lexer": "ipython3",
   "version": "3.8.5"
  }
 },
 "nbformat": 4,
 "nbformat_minor": 4
}
